{
 "cells": [
  {
   "cell_type": "code",
   "execution_count": 1,
   "id": "cb2d50c6",
   "metadata": {},
   "outputs": [],
   "source": [
    "import pandas as pd\n",
    "import numpy as np"
   ]
  },
  {
   "cell_type": "code",
   "execution_count": 2,
   "id": "e97c5c94",
   "metadata": {},
   "outputs": [],
   "source": [
    "india=pd.read_csv(r\"C:\\Users\\kavit\\Documents\\My_Projects\\SharkTank_Dashboard\\sharktank_india.csv\", sep=',')\n",
    "usa=pd.read_csv(r\"C:\\Users\\kavit\\Documents\\My_Projects\\SharkTank_Dashboard\\sharktank_usa.csv\", sep=',')"
   ]
  },
  {
   "cell_type": "code",
   "execution_count": 3,
   "id": "b6a5ec87",
   "metadata": {},
   "outputs": [
    {
     "data": {
      "text/plain": [
       "Index(['Season Number', 'Startup Name', 'Season Start', 'Season End',\n",
       "       'Episode Number', 'Episode Title', 'Anchor', 'Pitch Number', 'Industry',\n",
       "       'Business Description', 'Company Website', 'Number of Presenters',\n",
       "       'Male Presenters', 'Female Presenters', 'Transgender Presenters',\n",
       "       'Couple Presenters', 'Pitchers Average Age', 'Started in',\n",
       "       'Pitchers City', 'Pitchers State', 'Yearly Revenue', 'Cash Burn',\n",
       "       'Monthly Sales', 'Gross Margin', 'Net Margin', 'SKUs',\n",
       "       'Original Ask Amount', 'Original Offered Equity', 'Valuation Requested',\n",
       "       'Received Offer', 'Accepted Offer', 'Total Deal Amount',\n",
       "       'Total Deal Equity', 'Total Deal Debt', 'Debt Interest',\n",
       "       'Deal Valuation', 'Number of sharks in deal', 'Deal has conditions',\n",
       "       'Has Patents', 'Royalty deal', 'Ashneer Investment Amount',\n",
       "       'Ashneer Investment Equity', 'Ashneer Debt Amount',\n",
       "       'Namita Investment Amount', 'Namita Investment Equity',\n",
       "       'Namita Debt Amount', 'Anupam Investment Amount',\n",
       "       'Anupam Investment Equity', 'Anupam Debt Amount',\n",
       "       'Vineeta Investment Amount', 'Vineeta Investment Equity',\n",
       "       'Vineeta Debt Amount', 'Aman Investment Amount',\n",
       "       'Aman Investment Equity', 'Aman Debt Amount',\n",
       "       'Peyush Investment Amount', 'Peyush Investment Equity',\n",
       "       'Peyush Debt Amount', 'Ghazal Investment Amount',\n",
       "       'Ghazal Investment Equity', 'Ghazal Debt Amount',\n",
       "       'Amit Investment Amount', 'Amit Investment Equity', 'Amit Debt Amount',\n",
       "       'Guest Investment Amount', 'Guest Investment Equity',\n",
       "       'Guest Debt Amount', 'Guest Name', 'Ashneer Present', 'Namita Present',\n",
       "       'Anupam Present', 'Vineeta Present', 'Aman Present', 'Peyush Present',\n",
       "       'Ghazal Present', 'Amit Present', 'Guest Present'],\n",
       "      dtype='object')"
      ]
     },
     "execution_count": 3,
     "metadata": {},
     "output_type": "execute_result"
    }
   ],
   "source": [
    "india.columns"
   ]
  },
  {
   "cell_type": "code",
   "execution_count": null,
   "id": "92387d67",
   "metadata": {},
   "outputs": [],
   "source": [
    "india = india.drop(['Startup Name','Industry',\n",
    "       'Business Description', 'Company Website', 'Number of Presenters',\n",
    "       'Male Presenters', 'Female Presenters', 'Transgender Presenters',\n",
    "       'Couple Presenters', 'Pitchers Average Age', 'Started in',\n",
    "       'Pitchers City', 'Pitchers State', 'Yearly Revenue', 'Cash Burn',\n",
    "       'Monthly Sales', 'Gross Margin', 'Net Margin', 'SKUs',\n",
    "       'Original Ask Amount', 'Original Offered Equity', 'Valuation Requested',\n",
    "       'Received Offer', 'Accepted Offer', 'Total Deal Amount',\n",
    "       'Total Deal Equity', 'Total Deal Debt', 'Debt Interest',\n",
    "       'Deal Valuation', 'Number of sharks in deal', 'Deal has conditions',\n",
    "       'Has Patents', 'Royalty deal', 'Ashneer Investment Amount',\n",
    "       'Ashneer Investment Equity', 'Ashneer Debt Amount',\n",
    "       'Namita Investment Amount', 'Namita Investment Equity',\n",
    "       'Namita Debt Amount', 'Anupam Investment Amount',\n",
    "       'Anupam Investment Equity', 'Anupam Debt Amount','Vineeta Investment Amount', 'Vineeta Investment Equity',\n",
    "       'Vineeta Debt Amount', 'Aman Investment Amount',\n",
    "       'Aman Investment Equity', 'Aman Debt Amount',\n",
    "       'Peyush Investment Amount', 'Peyush Investment Equity',\n",
    "       'Peyush Debt Amount', 'Ghazal Investment Amount',\n",
    "       'Ghazal Investment Equity', 'Ghazal Debt Amount',\n",
    "       'Amit Investment Amount', 'Amit Investment Equity', 'Amit Debt Amount',\n",
    "       'Guest Investment Amount', 'Guest Investment Equity',\n",
    "       'Guest Debt Amount', 'Guest Name', 'Ashneer Present', 'Namita Present',\n",
    "       'Anupam Present', 'Vineeta Present', 'Aman Present', 'Peyush Present',\n",
    "       'Ghazal Present', 'Amit Present', 'Guest Present'], axis=1)"
   ]
  },
  {
   "cell_type": "code",
   "execution_count": 4,
   "id": "6512a438",
   "metadata": {},
   "outputs": [
    {
     "data": {
      "text/plain": [
       "Index(['Season Number', 'Startup Name', 'Season Start', 'Season End',\n",
       "       'Episode Number', 'Pitch Number', 'Original Air Date', 'Industry',\n",
       "       'Business Description', 'Pitchers Gender', 'Pitchers City',\n",
       "       'Pitchers State', 'Pitchers Average Age', 'Entrepreneur Names',\n",
       "       'Company Website', 'Multiple Entrepreneurs', 'US Viewership',\n",
       "       'Original Ask Amount', 'Original Offered Equity', 'Valuation Requested',\n",
       "       'Got Deal', 'Total Deal Amount', 'Total Deal Equity', 'Deal Valuation',\n",
       "       'Number of sharks in deal', 'Investment Amount Per Shark',\n",
       "       'Equity Per Shark', 'Royalty Deal', 'Loan',\n",
       "       'Barbara Corcoran Investment Amount',\n",
       "       'Barbara Corcoran Investment Equity', 'Mark Cuban Investment Amount',\n",
       "       'Mark Cuban Investment Equity', 'Lori Greiner Investment Amount',\n",
       "       'Lori Greiner Investment Equity', 'Robert Herjavec Investment Amount',\n",
       "       'Robert Herjavec Investment Equity', 'Daymond John Investment Amount',\n",
       "       'Daymond John Investment Equity', 'Kevin O Leary Investment Amount',\n",
       "       'Kevin O Leary Investment Equity', 'Guest Investment Amount',\n",
       "       'Guest Investment Equity', 'Guest Name', 'Barbara Corcoran Present',\n",
       "       'Mark Cuban Present', 'Lori Greiner Present', 'Robert Herjavec Present',\n",
       "       'Daymond John Present', 'Kevin O Leary Present', 'Guest Present'],\n",
       "      dtype='object')"
      ]
     },
     "execution_count": 4,
     "metadata": {},
     "output_type": "execute_result"
    }
   ],
   "source": [
    "usa.columns"
   ]
  }
 ],
 "metadata": {
  "kernelspec": {
   "display_name": "Python 3 (ipykernel)",
   "language": "python",
   "name": "python3"
  },
  "language_info": {
   "codemirror_mode": {
    "name": "ipython",
    "version": 3
   },
   "file_extension": ".py",
   "mimetype": "text/x-python",
   "name": "python",
   "nbconvert_exporter": "python",
   "pygments_lexer": "ipython3",
   "version": "3.11.5"
  }
 },
 "nbformat": 4,
 "nbformat_minor": 5
}
